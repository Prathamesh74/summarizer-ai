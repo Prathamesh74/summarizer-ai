{
 "cells": [
  {
   "cell_type": "code",
   "execution_count": 4,
   "id": "e78b58a8-13e5-4aca-a4f3-6637ba016756",
   "metadata": {},
   "outputs": [
    {
     "name": "stdout",
     "output_type": "stream",
     "text": [
      "hello\n"
     ]
    }
   ],
   "source": [
    "print(\"hello\")"
   ]
  },
  {
   "cell_type": "code",
   "execution_count": 5,
   "id": "3da7ab47-d600-40d3-a0c8-76a76b159bd1",
   "metadata": {},
   "outputs": [
    {
     "name": "stdout",
     "output_type": "stream",
     "text": [
      "Transformers version: 4.56.2\n",
      "Torch version: 2.8.0+cpu\n"
     ]
    }
   ],
   "source": [
    "import transformers\n",
    "import torch\n",
    "\n",
    "print(\"Transformers version:\", transformers.__version__)\n",
    "print(\"Torch version:\", torch.__version__)\n"
   ]
  },
  {
   "cell_type": "code",
   "execution_count": 10,
   "id": "b5be3d5a-29cf-4335-8897-f1f85f3cdd8e",
   "metadata": {},
   "outputs": [
    {
     "name": "stderr",
     "output_type": "stream",
     "text": [
      "'(MaxRetryError('HTTPSConnectionPool(host=\\'huggingface.co\\', port=443): Max retries exceeded with url: /sshleifer/distilbart-cnn-12-6/resolve/main/config.json (Caused by NameResolutionError(\"<urllib3.connection.HTTPSConnection object at 0x000002060DEC5950>: Failed to resolve \\'huggingface.co\\' ([Errno 11001] getaddrinfo failed)\"))'), '(Request ID: 4b4057c4-788e-49bc-b75d-4434bcccc59f)')' thrown while requesting HEAD https://huggingface.co/sshleifer/distilbart-cnn-12-6/resolve/main/config.json\n",
      "Retrying in 1s [Retry 1/5].\n",
      "'(MaxRetryError('HTTPSConnectionPool(host=\\'huggingface.co\\', port=443): Max retries exceeded with url: /sshleifer/distilbart-cnn-12-6/resolve/main/config.json (Caused by NameResolutionError(\"<urllib3.connection.HTTPSConnection object at 0x000002060DEC5E50>: Failed to resolve \\'huggingface.co\\' ([Errno 11001] getaddrinfo failed)\"))'), '(Request ID: 1e294d60-00a3-43e3-86a3-3ba96b630c6c)')' thrown while requesting HEAD https://huggingface.co/sshleifer/distilbart-cnn-12-6/resolve/main/config.json\n",
      "Retrying in 2s [Retry 2/5].\n",
      "'(MaxRetryError('HTTPSConnectionPool(host=\\'huggingface.co\\', port=443): Max retries exceeded with url: /sshleifer/distilbart-cnn-12-6/resolve/main/config.json (Caused by NameResolutionError(\"<urllib3.connection.HTTPSConnection object at 0x000002060DEC5450>: Failed to resolve \\'huggingface.co\\' ([Errno 11001] getaddrinfo failed)\"))'), '(Request ID: f4f0c067-c9d1-4a8b-b664-37917354c47e)')' thrown while requesting HEAD https://huggingface.co/sshleifer/distilbart-cnn-12-6/resolve/main/config.json\n",
      "Retrying in 4s [Retry 3/5].\n"
     ]
    },
    {
     "data": {
      "application/vnd.jupyter.widget-view+json": {
       "model_id": "1537515a282345c9a5e2829184c54d83",
       "version_major": 2,
       "version_minor": 0
      },
      "text/plain": [
       "model.safetensors:  21%|##1       | 262M/1.22G [00:00<?, ?B/s]"
      ]
     },
     "metadata": {},
     "output_type": "display_data"
    },
    {
     "name": "stderr",
     "output_type": "stream",
     "text": [
      "Device set to use cpu\n"
     ]
    },
    {
     "name": "stdout",
     "output_type": "stream",
     "text": [
      "Summary:  Machine learning algorithms can analyze vast amounts of medical data to detect diseases earlier and with greater accuracy than traditional methods . AI-powered tools assist doctors in developing personalized treatment plans, predicting patient outcomes, and even monitoring vital signs in real time . Telemedicine platforms enhanced with AI provide remote consultations .\n"
     ]
    }
   ],
   "source": [
    "from transformers import pipeline\n",
    "\n",
    "summarizer = pipeline(\"summarization\", model=\"sshleifer/distilbart-cnn-12-6\")\n",
    "\n",
    "text = \"\"\"Artificial intelligence (AI) is revolutionizing healthcare by improving diagnostics, treatment planning, and patient care. Machine learning algorithms can analyze vast amounts of medical data to detect diseases earlier and with greater accuracy than traditional methods. AI-powered tools assist doctors in developing personalized treatment plans, predicting patient outcomes, and even monitoring vital signs in real time. Telemedicine platforms enhanced with AI provide remote consultations, expanding access to quality healthcare for people in underserved areas. While ethical considerations, data privacy, and the need for human oversight remain critical, AI’s integration into healthcare promises faster, more efficient, and more personalized medical services, ultimately improving patient outcomes and saving lives.\"\"\"\n",
    "summary = summarizer(text, max_length=100, min_length=30, do_sample=False)\n",
    "print(\"Summary:\", summary[0]['summary_text'])\n"
   ]
  },
  {
   "cell_type": "code",
   "execution_count": null,
   "id": "e93f4d3d-d474-46ef-8dd2-28540d406e94",
   "metadata": {},
   "outputs": [],
   "source": []
  }
 ],
 "metadata": {
  "kernelspec": {
   "display_name": "Python 3 (ipykernel)",
   "language": "python",
   "name": "python3"
  },
  "language_info": {
   "codemirror_mode": {
    "name": "ipython",
    "version": 3
   },
   "file_extension": ".py",
   "mimetype": "text/x-python",
   "name": "python",
   "nbconvert_exporter": "python",
   "pygments_lexer": "ipython3",
   "version": "3.13.5"
  }
 },
 "nbformat": 4,
 "nbformat_minor": 5
}
